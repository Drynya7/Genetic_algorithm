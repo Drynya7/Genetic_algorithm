{
  "nbformat": 4,
  "nbformat_minor": 0,
  "metadata": {
    "colab": {
      "provenance": [],
      "authorship_tag": "ABX9TyPo1M1u2CzS+lgAsuAVkbGX",
      "include_colab_link": true
    },
    "kernelspec": {
      "name": "python3",
      "display_name": "Python 3"
    },
    "language_info": {
      "name": "python"
    }
  },
  "cells": [
    {
      "cell_type": "markdown",
      "metadata": {
        "id": "view-in-github",
        "colab_type": "text"
      },
      "source": [
        "<a href=\"https://colab.research.google.com/github/Drynya7/Genetic_algorithm/blob/main/genetic_algorithm.ipynb\" target=\"_parent\"><img src=\"https://colab.research.google.com/assets/colab-badge.svg\" alt=\"Open In Colab\"/></a>"
      ]
    },
    {
      "cell_type": "code",
      "execution_count": null,
      "metadata": {
        "id": "166WVfA_ZVPS"
      },
      "outputs": [],
      "source": [
        "import math as m\n",
        "import matplotlib.pyplot as plt\n",
        "import numpy as np"
      ]
    },
    {
      "cell_type": "code",
      "source": [
        "def InputF():\n",
        "    n = int(input(\"Степень функции: \"))\n",
        "    K = [0]*(n+1)\n",
        "    st = ''\n",
        "    for i in range(n,-1,-1):\n",
        "        if i == 0: st = st + \"K_\" + str(i)\n",
        "        elif i==n: st = st + \"K_\" + str(i) + \"*x^\" + str(i) + \"+\"\n",
        "        else: st = st + \"K_\" + str(i) + \"*x^\" + str(i) + \"+\"\n",
        "    print(st)\n",
        "    for i in range(n+1):\n",
        "        K[i] = int(input(\"Введите K_\"+str(i)+\": \"))\n",
        "    return K"
      ],
      "metadata": {
        "id": "K8W1oPS9JWof"
      },
      "execution_count": null,
      "outputs": []
    },
    {
      "cell_type": "code",
      "source": [
        "class Person:\n",
        "  def __init__(self,left_b,right_b):\n",
        "    self.y = None\n",
        "    self.x_a = np.random.uniform(left_b*2,right_b*2)\n",
        "    self.x_b = np.random.uniform(left_b*2,right_b*2)\n",
        "  \n",
        "  def Res(self,K):\n",
        "    self.y = 0\n",
        "    for i in range(len(K)):\n",
        "      self.y = self.y + K[i]*(self.x_a+self.x_b)**i\n",
        "\n",
        "  def Get_y(self):\n",
        "    return self.y\n",
        "\n",
        "  def Get_Res(self):\n",
        "    return self.x_a+self.x_b\n",
        "  \n",
        "  def Get_x(self):\n",
        "    if np.random.randint(0,1):\n",
        "      return self.x_a\n",
        "    else:\n",
        "      return self.x_b\n",
        "\n",
        "  def Transp(self,x_c):\n",
        "    if np.random.randint(0,1):\n",
        "      self.x_a = x_c\n",
        "    else:\n",
        "      self.x_b = x_c\n",
        "  "
      ],
      "metadata": {
        "id": "lrGe-_j-JaXU"
      },
      "execution_count": null,
      "outputs": []
    },
    {
      "cell_type": "code",
      "source": [
        "def Genetic(K,l,left_b,right_b,al = 0.2,k=5):\n",
        "  P = []\n",
        "  l_=0\n",
        "  k_r = int(k*al)\n",
        "  for i in range(k):\n",
        "    P.append(Person(left_b,right_b))\n",
        "    P[i].Res(K)\n",
        "  while l_!=l:\n",
        "    l_+=1\n",
        "    for i in range(k):\n",
        "      for j in range(i):\n",
        "        if P[i].Get_y() < P[j].Get_y():\n",
        "          P[i], P[j] = P[j], P[i]\n",
        "    for i in range(k-k_r,k):\n",
        "      P[i]=Person(left_b,right_b)\n",
        "      P[i].Res(K)\n",
        "    for i in range(k_r,k-k_r):\n",
        "      r = np.random.randint(0,k-1)\n",
        "      P[i].Transp(P[r].Get_x()) \n",
        "      P[i].Res(K)\n",
        "  return P[0].Get_Res()"
      ],
      "metadata": {
        "id": "zMXx8x0lNSVl"
      },
      "execution_count": null,
      "outputs": []
    },
    {
      "cell_type": "code",
      "source": [
        "Genetic(InputF(),1000,-10,10)"
      ],
      "metadata": {
        "colab": {
          "base_uri": "https://localhost:8080/"
        },
        "id": "88m9PmiuSiip",
        "outputId": "4aafad85-2c3e-4277-a5e3-f85f0a8cf849"
      },
      "execution_count": null,
      "outputs": [
        {
          "name": "stdout",
          "output_type": "stream",
          "text": [
            "Степень функции: 2\n",
            "K_2*x^2+K_1*x^1+K_0\n",
            "Введите K_0: 1\n",
            "Введите K_1: 1\n",
            "Введите K_2: 1\n"
          ]
        },
        {
          "output_type": "execute_result",
          "data": {
            "text/plain": [
              "-0.4911779014725006"
            ]
          },
          "metadata": {},
          "execution_count": 30
        }
      ]
    }
  ]
}